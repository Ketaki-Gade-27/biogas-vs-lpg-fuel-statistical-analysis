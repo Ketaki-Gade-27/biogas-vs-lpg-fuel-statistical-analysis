{
 "cells": [
  {
   "cell_type": "markdown",
   "id": "a39bf048-cde8-491b-b20f-2758380d44bf",
   "metadata": {},
   "source": [
    "### Chi square test"
   ]
  },
  {
   "cell_type": "code",
   "execution_count": 8,
   "id": "9c4fa105-f17d-4ca2-9d7f-a2b8658f4195",
   "metadata": {},
   "outputs": [],
   "source": [
    "import pandas as pd"
   ]
  },
  {
   "cell_type": "code",
   "execution_count": 9,
   "id": "0d40c12b-5243-4c8b-b7af-dd95b3dc33b2",
   "metadata": {},
   "outputs": [
    {
     "name": "stdout",
     "output_type": "stream",
     "text": [
      "<bound method NDFrame.head of         Primary_fuel  \\\n",
      "0    LPG / Cylinder    \n",
      "1              Both    \n",
      "2    LPG / Cylinder    \n",
      "3              Both    \n",
      "4    LPG / Cylinder    \n",
      "..               ...   \n",
      "241            Both    \n",
      "242            Both    \n",
      "243            Both    \n",
      "244            Both    \n",
      "245            Both    \n",
      "\n",
      "    Any_significant_changes_in_LPG_prices_affecting_household_budget  \n",
      "0                                                 Yes                 \n",
      "1                                                 Yes                 \n",
      "2                                                 Yes                 \n",
      "3                                                   No                \n",
      "4                                                 Yes                 \n",
      "..                                                 ...                \n",
      "241                                                 No                \n",
      "242                                                 No                \n",
      "243                                               Yes                 \n",
      "244                                               Yes                 \n",
      "245                                                 No                \n",
      "\n",
      "[246 rows x 2 columns]>\n"
     ]
    },
    {
     "data": {
      "text/plain": [
       "Index(['Primary_fuel', 'Any_significant_changes_in_LPG_prices_affecting_household_budget'], dtype='object')"
      ]
     },
     "execution_count": 9,
     "metadata": {},
     "output_type": "execute_result"
    }
   ],
   "source": [
    "df1 = pd.read_excel(r'D:\\Clg material\\Desktop\\Clg Activities\\Projects\\Project 2 (LPG&Biogas)\\Sorted Data.xlsx',sheet_name = 7)\n",
    "print(df1.head)\n",
    "df1.columns"
   ]
  },
  {
   "cell_type": "code",
   "execution_count": 10,
   "id": "844aca27-a6fc-4a50-ba29-ec0b343b4518",
   "metadata": {},
   "outputs": [
    {
     "name": "stdout",
     "output_type": "stream",
     "text": [
      "Contingency_table ; \n",
      "Any_significant_changes_in_LPG_prices_affecting_household_budget  No  Yes \n",
      "Primary_fuel                                                              \n",
      "Both                                                              62    54\n",
      "LPG / Cylinder                                                    23   107\n"
     ]
    }
   ],
   "source": [
    "contingency_table = pd.crosstab(df1['Primary_fuel'], df1['Any_significant_changes_in_LPG_prices_affecting_household_budget'])\n",
    "print('Contingency_table ; ')\n",
    "print(contingency_table)"
   ]
  },
  {
   "cell_type": "code",
   "execution_count": 11,
   "id": "306ef72a-11e4-42a7-877f-66a124a27d44",
   "metadata": {},
   "outputs": [
    {
     "name": "stdout",
     "output_type": "stream",
     "text": [
      "Chisq statistics =  33.093702692932794\n",
      "P_value =  8.782269766757862e-09\n",
      "Degrees_of_freedom =  1\n",
      "Reject Ho\n"
     ]
    }
   ],
   "source": [
    "from scipy.stats import chi2_contingency\n",
    "\n",
    "chi2_stat, p_value, dof, expected = chi2_contingency(contingency_table)\n",
    "print(\"Chisq statistics = \",chi2_stat)\n",
    "print(\"P_value = \",p_value)\n",
    "print(\"Degrees_of_freedom = \",dof)\n",
    "\n",
    "if p_value < 0.05:\n",
    "    print('Reject Ho')\n",
    "else:\n",
    "    print('Accept Ho')"
   ]
  },
  {
   "cell_type": "code",
   "execution_count": null,
   "id": "a4a854f8-2a10-4f52-af7b-8072c6d72e3c",
   "metadata": {},
   "outputs": [],
   "source": []
  },
  {
   "cell_type": "code",
   "execution_count": 14,
   "id": "28f25af6-cbcb-4ec4-a9ed-0d0bcf39e17f",
   "metadata": {},
   "outputs": [
    {
     "name": "stdout",
     "output_type": "stream",
     "text": [
      "Contingency_table ; \n",
      "have_cattles     No  Yes\n",
      "Primary_fuel            \n",
      "Bio-gas           0   11\n",
      "Both              0  116\n",
      "LPG / Cylinder   90   40\n"
     ]
    }
   ],
   "source": [
    "table = pd.crosstab(D['Primary_fuel'], D['have_cattles'])\n",
    "print('Contingency_table ; ')\n",
    "print(table)"
   ]
  },
  {
   "cell_type": "code",
   "execution_count": null,
   "id": "2e171e91-0914-4b87-8c22-28418ecbc339",
   "metadata": {},
   "outputs": [],
   "source": []
  },
  {
   "cell_type": "markdown",
   "id": "5e0eb2d8-2b72-4111-b57b-fe9f8af43fce",
   "metadata": {},
   "source": [
    "### Kruakal Wallis tets"
   ]
  },
  {
   "cell_type": "code",
   "execution_count": 15,
   "id": "1e3b79ec-8862-4a90-9b9a-ecb6e69fd98a",
   "metadata": {},
   "outputs": [
    {
     "data": {
      "text/html": [
       "<div>\n",
       "<style scoped>\n",
       "    .dataframe tbody tr th:only-of-type {\n",
       "        vertical-align: middle;\n",
       "    }\n",
       "\n",
       "    .dataframe tbody tr th {\n",
       "        vertical-align: top;\n",
       "    }\n",
       "\n",
       "    .dataframe thead th {\n",
       "        text-align: right;\n",
       "    }\n",
       "</style>\n",
       "<table border=\"1\" class=\"dataframe\">\n",
       "  <thead>\n",
       "    <tr style=\"text-align: right;\">\n",
       "      <th></th>\n",
       "      <th>Annual_expenditure_on_biogas</th>\n",
       "      <th>Annual_expenditure_on_LPG</th>\n",
       "      <th>Annual_expenditure_on_both_fules</th>\n",
       "    </tr>\n",
       "  </thead>\n",
       "  <tbody>\n",
       "    <tr>\n",
       "      <th>0</th>\n",
       "      <td>500.0</td>\n",
       "      <td>10000</td>\n",
       "      <td>1000.0</td>\n",
       "    </tr>\n",
       "    <tr>\n",
       "      <th>1</th>\n",
       "      <td>200.0</td>\n",
       "      <td>4000</td>\n",
       "      <td>4000.0</td>\n",
       "    </tr>\n",
       "    <tr>\n",
       "      <th>2</th>\n",
       "      <td>0.0</td>\n",
       "      <td>3000</td>\n",
       "      <td>2000.0</td>\n",
       "    </tr>\n",
       "    <tr>\n",
       "      <th>3</th>\n",
       "      <td>400.0</td>\n",
       "      <td>6000</td>\n",
       "      <td>3000.0</td>\n",
       "    </tr>\n",
       "    <tr>\n",
       "      <th>4</th>\n",
       "      <td>2000.0</td>\n",
       "      <td>2000</td>\n",
       "      <td>6000.0</td>\n",
       "    </tr>\n",
       "  </tbody>\n",
       "</table>\n",
       "</div>"
      ],
      "text/plain": [
       "   Annual_expenditure_on_biogas  Annual_expenditure_on_LPG  \\\n",
       "0                         500.0                      10000   \n",
       "1                         200.0                       4000   \n",
       "2                           0.0                       3000   \n",
       "3                         400.0                       6000   \n",
       "4                        2000.0                       2000   \n",
       "\n",
       "   Annual_expenditure_on_both_fules  \n",
       "0                            1000.0  \n",
       "1                            4000.0  \n",
       "2                            2000.0  \n",
       "3                            3000.0  \n",
       "4                            6000.0  "
      ]
     },
     "execution_count": 15,
     "metadata": {},
     "output_type": "execute_result"
    }
   ],
   "source": [
    "d_f = pd.read_excel(r'D:\\Clg material\\Desktop\\Clg Activities\\Projects\\Project 2 (LPG&Biogas)\\Sorted Data.xlsx',sheet_name = 6)\n",
    "d_f.head()"
   ]
  },
  {
   "cell_type": "code",
   "execution_count": 16,
   "id": "b28e95cf-1cc8-42cf-9867-e01fce694c53",
   "metadata": {},
   "outputs": [
    {
     "name": "stdout",
     "output_type": "stream",
     "text": [
      "0      500.0\n",
      "1      200.0\n",
      "2        0.0\n",
      "3      400.0\n",
      "4     2000.0\n",
      "5     4000.0\n",
      "6       50.0\n",
      "7       50.0\n",
      "8      150.0\n",
      "9       50.0\n",
      "10    2000.0\n",
      "Name: Annual_expenditure_on_biogas, dtype: float64 0      10000\n",
      "1       4000\n",
      "2       3000\n",
      "3       6000\n",
      "4       2000\n",
      "       ...  \n",
      "125    10000\n",
      "126     9000\n",
      "127    11500\n",
      "128    11000\n",
      "129     9000\n",
      "Name: Annual_expenditure_on_LPG, Length: 130, dtype: int64 0      1000.0\n",
      "1      4000.0\n",
      "2      2000.0\n",
      "3      3000.0\n",
      "4      6000.0\n",
      "        ...  \n",
      "111    1000.0\n",
      "112    2000.0\n",
      "113    2000.0\n",
      "114    2300.0\n",
      "115    1000.0\n",
      "Name: Annual_expenditure_on_both_fules, Length: 116, dtype: float64\n",
      "H_statistic =  135.74078342174923\n",
      "P_value =  3.343977875247248e-30\n",
      "Reject Ho i.e. At least one groups median is different from the others.\n"
     ]
    }
   ],
   "source": [
    "from scipy.stats import kruskal\n",
    "\n",
    "biogas_exp = d_f['Annual_expenditure_on_biogas'].dropna()    # Drop NaN values if any\n",
    "lpg_exp = d_f['Annual_expenditure_on_LPG'].dropna()\n",
    "both_exp = d_f['Annual_expenditure_on_both_fules'].dropna()\n",
    "print(biogas_exp, lpg_exp, both_exp)\n",
    "\n",
    "# Perform Kruskal-Wallis test\n",
    "h_statistic, p_value = kruskal(biogas_exp, lpg_exp, both_exp)\n",
    "\n",
    "print('H_statistic = ',h_statistic)\n",
    "print('P_value = ',p_value)\n",
    "\n",
    "if p_value < 0.05:\n",
    "    print('Reject Ho i.e. At least one groups median is different from the others.')\n",
    "else:\n",
    "    print('Accept Ho i.e. There is no significant difference in the medians of the groups.')"
   ]
  },
  {
   "cell_type": "code",
   "execution_count": null,
   "id": "482ad921-3bf4-4cb6-a028-bb571b666e1a",
   "metadata": {},
   "outputs": [],
   "source": []
  },
  {
   "cell_type": "markdown",
   "id": "b1f3af85-2d91-47e1-aafb-e9dd47c6f539",
   "metadata": {},
   "source": [
    "### Regression model"
   ]
  },
  {
   "cell_type": "code",
   "execution_count": 20,
   "id": "c62d9bc8-2194-4c08-ac84-3454c1e42b82",
   "metadata": {},
   "outputs": [
    {
     "name": "stdout",
     "output_type": "stream",
     "text": [
      "   Family_members\\n Income_source\\n  Annual_income Primary_fuel  Annual_exp\n",
      "0               4.0               1       100000.0     Bio-gas        500.0\n",
      "1               3.0               1        40000.0     Bio-gas        200.0\n",
      "2               4.0               1        30000.0     Bio-gas          0.0\n",
      "3               5.0               1        40000.0     Bio-gas        400.0\n",
      "4               5.0               1        40000.0     Bio-gas       2000.0\n",
      "Family_members\\n    float64\n",
      "Income_source\\n      object\n",
      "Annual_income       float64\n",
      "Primary_fuel         object\n",
      "Annual_exp          float64\n",
      "dtype: object\n"
     ]
    }
   ],
   "source": [
    "import pandas as pd\n",
    "DT = pd.read_excel(r'D:\\Clg material\\Desktop\\Clg Activities\\Projects\\Project 2 (LPG&Biogas)\\Sorted Data.xlsx',sheet_name = 15)\n",
    "print(DT.head())\n",
    "print(DT.dtypes)"
   ]
  },
  {
   "cell_type": "code",
   "execution_count": 21,
   "id": "ed5f81b3-93e0-4233-a0eb-d7df58ebd79f",
   "metadata": {},
   "outputs": [],
   "source": [
    "import pandas as pd\n",
    "import statsmodels.api as sm\n",
    "from sklearn.preprocessing import StandardScaler\n",
    "scalar = StandardScaler()\n",
    "x = DT['Annual_income'].values.reshape(-1,1)\n",
    "x = list(scalar.fit_transform(x)) "
   ]
  },
  {
   "cell_type": "code",
   "execution_count": 22,
   "id": "51ab11e7-bce1-4c47-a4dd-f8ee9e20a326",
   "metadata": {},
   "outputs": [
    {
     "name": "stdout",
     "output_type": "stream",
     "text": [
      "     Family_members\\n  Primary_fuel_Both   Primary_fuel_LPG / Cylinder   \\\n",
      "0                 4.0                 0.0                           0.0   \n",
      "1                 3.0                 0.0                           0.0   \n",
      "2                 4.0                 0.0                           0.0   \n",
      "3                 5.0                 0.0                           0.0   \n",
      "4                 5.0                 0.0                           0.0   \n",
      "..                ...                 ...                           ...   \n",
      "253               4.0                 0.0                           1.0   \n",
      "254               4.0                 0.0                           1.0   \n",
      "255               5.0                 0.0                           1.0   \n",
      "256               5.0                 0.0                           1.0   \n",
      "257               0.0                 0.0                           0.0   \n",
      "\n",
      "            0  \n",
      "0   -0.593493  \n",
      "1   -1.020223  \n",
      "2   -1.091345  \n",
      "3   -1.020223  \n",
      "4   -1.020223  \n",
      "..        ...  \n",
      "253 -0.309006  \n",
      "254 -0.735736  \n",
      "255 -0.237884  \n",
      "256  0.117724  \n",
      "257  0.000000  \n",
      "\n",
      "[258 rows x 4 columns]\n",
      "Family_members\\n                0\n",
      "Primary_fuel_Both               0\n",
      "Primary_fuel_LPG / Cylinder     0\n",
      "0                               0\n",
      "dtype: int64\n",
      "                            OLS Regression Results                            \n",
      "==============================================================================\n",
      "Dep. Variable:             Annual_exp   R-squared:                       0.560\n",
      "Model:                            OLS   Adj. R-squared:                  0.553\n",
      "Method:                 Least Squares   F-statistic:                     80.34\n",
      "Date:                Wed, 10 Sep 2025   Prob (F-statistic):           6.53e-44\n",
      "Time:                        22:57:17   Log-Likelihood:                -2444.3\n",
      "No. Observations:                 258   AIC:                             4899.\n",
      "Df Residuals:                     253   BIC:                             4916.\n",
      "Df Model:                           4                                         \n",
      "Covariance Type:            nonrobust                                         \n",
      "================================================================================================\n",
      "                                   coef    std err          t      P>|t|      [0.025      0.975]\n",
      "------------------------------------------------------------------------------------------------\n",
      "const                         1779.2654   1037.477      1.715      0.088    -263.926    3822.457\n",
      "Family_members\n",
      "                -83.7527    118.106     -0.709      0.479    -316.349     148.843\n",
      "Primary_fuel_Both              663.2412    973.156      0.682      0.496   -1253.278    2579.760\n",
      "Primary_fuel_LPG / Cylinder   7436.1906    988.646      7.522      0.000    5489.166    9383.215\n",
      "0                              340.9456    213.045      1.600      0.111     -78.623     760.514\n",
      "==============================================================================\n",
      "Omnibus:                       12.423   Durbin-Watson:                   1.427\n",
      "Prob(Omnibus):                  0.002   Jarque-Bera (JB):               15.093\n",
      "Skew:                          -0.403   Prob(JB):                     0.000528\n",
      "Kurtosis:                       3.869   Cond. No.                         42.9\n",
      "==============================================================================\n",
      "\n",
      "Notes:\n",
      "[1] Standard Errors assume that the covariance matrix of the errors is correctly specified.\n"
     ]
    }
   ],
   "source": [
    "# Specify the independent variables (features) and the dependent variable\n",
    "X = DT[['Family_members\\n','Primary_fuel']] # Features\n",
    "X_additional = pd.DataFrame(x) \n",
    "y = DT['Annual_exp']  # Target variable\n",
    "\n",
    "# Create dummy variables for categorical variable 'Gender'\n",
    "X_features = pd.get_dummies(X, columns=['Primary_fuel'], drop_first=True)\n",
    "X = pd.concat([X_features, X_additional], axis=1)\n",
    "X.fillna(0, inplace=True)\n",
    "\n",
    "X = X.astype(float)  # Convert all variables to float data type\n",
    "print(X)\n",
    "# Check if there are still any missing values\n",
    "print(X.isnull().sum())\n",
    "\n",
    "# Add a constant term to the independent variables matrix\n",
    "X = sm.add_constant(X)\n",
    "\n",
    "# Fit the multiple linear regression model\n",
    "model = sm.OLS(y, X).fit()\n",
    "\n",
    "# Print the model summary\n",
    "print(model.summary())"
   ]
  },
  {
   "cell_type": "code",
   "execution_count": 23,
   "id": "5d68c663-03af-4539-9956-a811fe0ad6c8",
   "metadata": {},
   "outputs": [
    {
     "name": "stdout",
     "output_type": "stream",
     "text": [
      "0      1241.905840\n",
      "1      1180.166759\n",
      "2      1072.165417\n",
      "3      1012.661338\n",
      "4      1012.661338\n",
      "          ...     \n",
      "253    8775.090920\n",
      "254    8629.599129\n",
      "255    8715.586842\n",
      "256    8836.830001\n",
      "257    1779.265383\n",
      "Length: 258, dtype: float64\n"
     ]
    }
   ],
   "source": [
    "# Get predicted y values\n",
    "predicted_y = model.predict(X)\n",
    "\n",
    "# Print the predicted y values\n",
    "print(predicted_y)"
   ]
  },
  {
   "cell_type": "code",
   "execution_count": 24,
   "id": "a2aedfe6-8f6e-4c2c-9244-3b9f7322ec34",
   "metadata": {},
   "outputs": [
    {
     "data": {
      "text/plain": [
       "5424.124513618675"
      ]
     },
     "execution_count": 24,
     "metadata": {},
     "output_type": "execute_result"
    }
   ],
   "source": [
    "mean_value = sum(predicted_y)/len(predicted_y)\n",
    "mean_value"
   ]
  },
  {
   "cell_type": "code",
   "execution_count": null,
   "id": "e1603575-af8c-4838-8112-703535ffefed",
   "metadata": {},
   "outputs": [],
   "source": []
  }
 ],
 "metadata": {
  "kernelspec": {
   "display_name": "Python 3 (ipykernel)",
   "language": "python",
   "name": "python3"
  },
  "language_info": {
   "codemirror_mode": {
    "name": "ipython",
    "version": 3
   },
   "file_extension": ".py",
   "mimetype": "text/x-python",
   "name": "python",
   "nbconvert_exporter": "python",
   "pygments_lexer": "ipython3",
   "version": "3.12.7"
  }
 },
 "nbformat": 4,
 "nbformat_minor": 5
}
